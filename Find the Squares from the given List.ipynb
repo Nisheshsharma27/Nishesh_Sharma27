{
 "cells": [
  {
   "cell_type": "code",
   "execution_count": 1,
   "id": "4f5e2618",
   "metadata": {},
   "outputs": [
    {
     "name": "stdout",
     "output_type": "stream",
     "text": [
      "Original List : [1, 2, 3, 4, 5, 6, 7, 8, 9, 10]\n",
      "\n",
      " Square of Original list numbers:\n",
      "[1, 4, 9, 16, 25, 36, 49, 64, 81, 100]\n"
     ]
    }
   ],
   "source": [
    "# Using map() Function\n",
    "\n",
    "numbers = [1, 2, 3, 4, 5, 6, 7, 8, 9, 10]\n",
    "print('Original List :',numbers)\n",
    "def square(number):\n",
    "    return number ** 2\n",
    "\n",
    "squaring_iterator = map(square, numbers)\n",
    "squared_numbers = list(squaring_iterator)\n",
    "print(\"\\n Square of Original list numbers:\")\n",
    "print(squared_numbers)"
   ]
  },
  {
   "cell_type": "code",
   "execution_count": 2,
   "id": "0213c7d2",
   "metadata": {},
   "outputs": [
    {
     "name": "stdout",
     "output_type": "stream",
     "text": [
      "Original list:  (1, 2, 3, 4, 5, 6, 7, 8, 9, 10)\n",
      "\n",
      " Square of original list numbers:\n",
      "[1, 4, 9, 16, 25, 36, 49, 64, 81, 100]\n"
     ]
    }
   ],
   "source": [
    "# Using Lambda Expression\n",
    "\n",
    "numbers = (1, 2, 3, 4, 5, 6, 7, 8, 9, 10) \n",
    "print(\"Original list: \", numbers)\n",
    "result = map(lambda x: x*x, numbers) \n",
    "print(\"\\n Square of original list numbers:\")\n",
    "print(list(result))"
   ]
  },
  {
   "cell_type": "code",
   "execution_count": null,
   "id": "5d9e1532",
   "metadata": {},
   "outputs": [],
   "source": []
  }
 ],
 "metadata": {
  "kernelspec": {
   "display_name": "Python 3 (ipykernel)",
   "language": "python",
   "name": "python3"
  },
  "language_info": {
   "codemirror_mode": {
    "name": "ipython",
    "version": 3
   },
   "file_extension": ".py",
   "mimetype": "text/x-python",
   "name": "python",
   "nbconvert_exporter": "python",
   "pygments_lexer": "ipython3",
   "version": "3.9.7"
  }
 },
 "nbformat": 4,
 "nbformat_minor": 5
}
