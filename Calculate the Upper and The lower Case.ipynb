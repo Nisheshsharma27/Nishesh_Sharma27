{
 "cells": [
  {
   "cell_type": "code",
   "execution_count": 4,
   "id": "d5a18234",
   "metadata": {},
   "outputs": [
    {
     "name": "stdout",
     "output_type": "stream",
     "text": [
      "No. of Lower case Characters : 35\n",
      "No. of Upper case characters : 14\n"
     ]
    }
   ],
   "source": [
    "# Python program to count upper and lower case characters \n",
    "\n",
    "def upperlower(string):\n",
    "  \n",
    "    upper = 0\n",
    "    lower = 0\n",
    "  \n",
    "    for i in range(len(string)):\n",
    "          \n",
    "        # For lower letters\n",
    "        if (ord(string[i]) >= 97 and\n",
    "            ord(string[i]) <= 122):\n",
    "            lower += 1\n",
    "  \n",
    "        # For upper letters\n",
    "        elif (ord(string[i]) >= 65 and\n",
    "              ord(string[i]) <= 90):\n",
    "            upper += 1\n",
    "  \n",
    "    print('No. of Lower case Characters : %s' %lower) \n",
    "    print('No. of Upper case characters : %s' %upper)\n",
    "  \n",
    "string = 'Nishesh Sharma Is Learing Data Science Course From EDYODA'\n",
    "upperlower(string)"
   ]
  },
  {
   "cell_type": "code",
   "execution_count": null,
   "id": "290e1634",
   "metadata": {},
   "outputs": [],
   "source": []
  }
 ],
 "metadata": {
  "kernelspec": {
   "display_name": "Python 3 (ipykernel)",
   "language": "python",
   "name": "python3"
  },
  "language_info": {
   "codemirror_mode": {
    "name": "ipython",
    "version": 3
   },
   "file_extension": ".py",
   "mimetype": "text/x-python",
   "name": "python",
   "nbconvert_exporter": "python",
   "pygments_lexer": "ipython3",
   "version": "3.9.7"
  }
 },
 "nbformat": 4,
 "nbformat_minor": 5
}
