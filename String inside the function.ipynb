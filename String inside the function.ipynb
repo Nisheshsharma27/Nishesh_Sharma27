{
 "cells": [
  {
   "cell_type": "code",
   "execution_count": 8,
   "id": "054b0db0",
   "metadata": {},
   "outputs": [
    {
     "name": "stdout",
     "output_type": "stream",
     "text": [
      "The Original string  is : My Name Is Nishesh Sharma ---- 1234abcd\n",
      "_________________________________________________________________\n",
      "The Reversed string is : dcba4321 ---- amrahS hsehsiN sI emaN yM\n"
     ]
    }
   ],
   "source": [
    "# Python code to reverse a string\n",
    "\n",
    "# Function to reverse a string\n",
    "def reverse(string):\n",
    "    string = string[::-1]\n",
    "    return string\n",
    "\n",
    "s = \"My Name Is Nishesh Sharma ---- 1234abcd\"\n",
    "  \n",
    "print (\"The Original string  is : \",end=\"\")\n",
    "print (s)\n",
    "print('_________________________________________________________________')  \n",
    "print (\"The Reversed string is : \",end=\"\")\n",
    "print (reverse(s))"
   ]
  },
  {
   "cell_type": "code",
   "execution_count": null,
   "id": "f3fdb037",
   "metadata": {},
   "outputs": [],
   "source": []
  }
 ],
 "metadata": {
  "kernelspec": {
   "display_name": "Python 3 (ipykernel)",
   "language": "python",
   "name": "python3"
  },
  "language_info": {
   "codemirror_mode": {
    "name": "ipython",
    "version": 3
   },
   "file_extension": ".py",
   "mimetype": "text/x-python",
   "name": "python",
   "nbconvert_exporter": "python",
   "pygments_lexer": "ipython3",
   "version": "3.9.7"
  }
 },
 "nbformat": 4,
 "nbformat_minor": 5
}
